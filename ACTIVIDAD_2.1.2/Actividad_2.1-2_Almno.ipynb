{
 "cells": [
  {
   "cell_type": "markdown",
   "metadata": {},
   "source": [
    "#  **Derivadas en python**\n",
    "\n",
    "### **Objetivo:**  \n",
    "Comprender el concepto de derivadas, su aplicación en la identificación de funciones crecientes y decrecientes, y aprender a calcularlas usando **Python**.\n",
    "\n"
   ]
  },
  {
   "cell_type": "markdown",
   "metadata": {},
   "source": [
    "### **Origen de la derivada**\n",
    "El concepto de derivada surge del trabajo de **Isaac Newton** y **Gottfried Wilhelm Leibniz** en el siglo XVII, quienes desarrollaron el cálculo diferencial e integral de manera independiente.\n",
    "\n",
    "- **Newton** introdujo la derivada en el contexto de la **velocidad instantánea** y el movimiento de los cuerpos.\n",
    "- **Leibniz** la formalizó con su notación dy/dx, que aún se usa hoy en día.\n",
    "\n",
    "Ambos desarrollaron la idea de una tasa de cambio infinitesimal para resolver problemas de **movimiento, optimización y geometría**.\n"
   ]
  },
  {
   "cell_type": "markdown",
   "metadata": {},
   "source": [
    "Dado un punto \\( x=a \\), la derivada \\( f'(a) \\) nos dice si la función está:\n",
    "\n",
    "- **Creciendo** (\\( f'(a) > 0 \\)): la pendiente es positiva, y la curva sube.\n",
    "- **Decreciendo** (\\( f'(a) < 0 \\)): la pendiente es negativa, y la curva baja.\n",
    "- **Constante** (\\( f'(a) = 0 \\)): la pendiente es cero, lo que puede indicar un máximo, un mínimo o un punto de inflexión.\n",
    "\n",
    "Visualmente:\n",
    "\n",
    "https://www.geogebra.org/m/ve5pdft7\n"
   ]
  },
  {
   "cell_type": "markdown",
   "metadata": {},
   "source": [
    "### **Ejemplos de derivadas**\n",
    "1. **Derivada de una función lineal**:  \n",
    "   Si $$ f(x) = 3x + 2 $$ la derivada es:\n",
    "\n",
    "$$\n",
    "   f'(x) = 3\n",
    "$$\n",
    "\n",
    "   Como la función es lineal, su pendiente es constante.\n",
    "\n",
    "2. **Derivada de una función cuadrática**:  \n",
    "   Si $$f(x) = x^2$$ la derivada es:\n",
    "\n",
    "$$\n",
    "   f'(x) = 2x\n",
    "$$\n",
    "\n",
    "   Esto indica que la pendiente cambia en cada punto.\n",
    "\n",
    "3. **Derivada de una función exponencial**:  \n",
    "   Si $$ f(x) = e^x$$ su derivada es:\n",
    "\n",
    "$$\n",
    "   f'(x) = e^x\n",
    "$$\n",
    "\n",
    "   Lo que significa que su tasa de crecimiento es igual a su propio valor.\n"
   ]
  },
  {
   "cell_type": "markdown",
   "metadata": {},
   "source": [
    "# **Formulario de Derivadas**\n",
    "\n",
    "Si \\( U \\) y \\( V \\) son funciones diferenciables, y \\( a, c \\) son constantes, se aplican las siguientes reglas de derivación:\n",
    "\n",
    "---\n",
    "\n",
    "## **Algunas Reglas Básicas**\n",
    "\n",
    "1. **Derivada de una constante**  \n",
    "   $$\n",
    "   \\frac{d}{dx} (c) = 0\n",
    "   $$\n",
    "\n",
    "2. **Regla de la potencia**  \n",
    "   $$\n",
    "   \\frac{d}{dx} (x^n) = n x^{n-1}, \\quad \\text{para } n \\in \\mathbb{R}\n",
    "   $$\n",
    "\n",
    "3. **Derivada de una constante por una función**  \n",
    "   $$\n",
    "   \\frac{d}{dx} (aU) = aU'\n",
    "   $$\n",
    "\n",
    "4. **Regla de la suma/resta**  \n",
    "   $$\n",
    "   \\frac{d}{dx} (U \\pm V) = U' \\pm V'\n",
    "   $$\n",
    "\n",
    "5. **Regla del producto**  \n",
    "   $$\n",
    "   \\frac{d}{dx} (U V) = U' V + U V'\n",
    "   $$\n",
    "\n",
    "6. **Regla del cociente**  \n",
    "   $$\n",
    "   \\frac{d}{dx} \\left( \\frac{U}{V} \\right) = \\frac{U' V - U V'}{V^2}, \\quad V \\neq 0\n",
    "   $$\n",
    "\n",
    "7. **Regla de la cadena**  \n",
    "   $$\n",
    "   \\frac{d}{dx} f(g(x)) = f'(g(x)) \\cdot g'(x)\n",
    "   $$\n",
    "\n",
    "---\n",
    "\n"
   ]
  },
  {
   "cell_type": "markdown",
   "metadata": {},
   "source": [
    "---\n",
    "\n",
    "#  Introducción a las Derivadas en Python\n",
    "##  Reglas de Derivación"
   ]
  },
  {
   "cell_type": "code",
   "execution_count": 1,
   "metadata": {},
   "outputs": [
    {
     "name": "stdout",
     "output_type": "stream",
     "text": [
      "Requirement already satisfied: sympy in c:\\users\\fsaca\\onedrive\\escritorio\\simulacion_v2025\\.venv\\lib\\site-packages (1.14.0)\n",
      "Requirement already satisfied: mpmath<1.4,>=1.1.0 in c:\\users\\fsaca\\onedrive\\escritorio\\simulacion_v2025\\.venv\\lib\\site-packages (from sympy) (1.3.0)\n",
      "Note: you may need to restart the kernel to use updated packages.\n"
     ]
    }
   ],
   "source": [
    "%pip install sympy"
   ]
  },
  {
   "cell_type": "code",
   "execution_count": 7,
   "metadata": {},
   "outputs": [],
   "source": [
    "import sympy as sp\n",
    "from IPython.display import display, Markdown\n",
    "\n",
    "x= sp.Symbol(\"x\")\n",
    "y=sp.Symbol(\"y\")\n",
    "\n",
    "a , c =sp.symbols(\"a c\")\n",
    "\n"
   ]
  },
  {
   "cell_type": "code",
   "execution_count": 6,
   "metadata": {},
   "outputs": [
    {
     "data": {
      "text/plain": [
       "sympy.core.symbol.Symbol"
      ]
     },
     "execution_count": 6,
     "metadata": {},
     "output_type": "execute_result"
    }
   ],
   "source": [
    "type(x)"
   ]
  },
  {
   "cell_type": "markdown",
   "metadata": {},
   "source": [
    "### 1️⃣ Derivada de una constante\n",
    "$$ \\frac{d}{dx} (c) = 0 $$"
   ]
  },
  {
   "cell_type": "code",
   "execution_count": 10,
   "metadata": {},
   "outputs": [
    {
     "data": {
      "text/latex": [
       "$\\displaystyle 0$"
      ],
      "text/plain": [
       "0"
      ]
     },
     "metadata": {},
     "output_type": "display_data"
    },
    {
     "data": {
      "text/markdown": [
       "Evaluación en x=2: 0"
      ],
      "text/plain": [
       "<IPython.core.display.Markdown object>"
      ]
     },
     "metadata": {},
     "output_type": "display_data"
    }
   ],
   "source": [
    "derivada_constante = sp.diff(c,x)\n",
    "display(derivada_constante)\n",
    "eval_constante = derivada_constante.subs(x,2)\n",
    "display(Markdown(f\"Evaluación en x=2: {eval_constante}\"))\n"
   ]
  },
  {
   "cell_type": "markdown",
   "metadata": {},
   "source": [
    "### 2️⃣ Regla de la potencia\n",
    "$$ \\frac{d}{dx} (x^n) = n x^{n-1} $$"
   ]
  },
  {
   "cell_type": "code",
   "execution_count": 13,
   "metadata": {},
   "outputs": [
    {
     "data": {
      "text/latex": [
       "$\\displaystyle 3 x^{2}$"
      ],
      "text/plain": [
       "3*x**2"
      ]
     },
     "metadata": {},
     "output_type": "display_data"
    },
    {
     "data": {
      "text/markdown": [
       "Evaluación en x=3: 27"
      ],
      "text/plain": [
       "<IPython.core.display.Markdown object>"
      ]
     },
     "metadata": {},
     "output_type": "display_data"
    }
   ],
   "source": [
    "# sp.diff(derivada de, con respecto a)\n",
    "a=3\n",
    "derivada_potencia = sp.diff(x**a, x)\n",
    "display(derivada_potencia)\n",
    "# .subs(Evaluar con respecto a 'a', valor de 'a')\n",
    "eval_potencia = derivada_potencia.subs(x,a)\n",
    "display(Markdown(f\"Evaluación en x={a}: {eval_potencia}\"))"
   ]
  },
  {
   "cell_type": "code",
   "execution_count": 12,
   "metadata": {},
   "outputs": [
    {
     "data": {
      "text/plain": [
       "sympy.core.mul.Mul"
      ]
     },
     "execution_count": 12,
     "metadata": {},
     "output_type": "execute_result"
    }
   ],
   "source": [
    "type(derivada_potencia)"
   ]
  },
  {
   "cell_type": "markdown",
   "metadata": {},
   "source": [
    "### 3️⃣ Derivada de una constante por una función\n",
    "$$ \\frac{d}{dx} (a \\sin x) = a \\cos x $$"
   ]
  },
  {
   "cell_type": "code",
   "execution_count": 14,
   "metadata": {},
   "outputs": [
    {
     "data": {
      "text/latex": [
       "$\\displaystyle c \\cos{\\left(x \\right)}$"
      ],
      "text/plain": [
       "c*cos(x)"
      ]
     },
     "metadata": {},
     "output_type": "display_data"
    },
    {
     "data": {
      "text/markdown": [
       "Evaluación en x=π: -c"
      ],
      "text/plain": [
       "<IPython.core.display.Markdown object>"
      ]
     },
     "metadata": {},
     "output_type": "display_data"
    }
   ],
   "source": [
    "# representar seno de x sp.sin(x)\n",
    "from sympy import sin, cos, pi\n",
    "constante_por_funcion = c * sin(x)\n",
    "derivada_constante_por_funcion = sp.diff(constante_por_funcion,x)\n",
    "display(derivada_constante_por_funcion)\n",
    "# π = sp.pi\n",
    "eval_const_func = derivada_constante_por_funcion.subs(x,pi)\n",
    "display(Markdown(f\"Evaluación en x=π: {eval_const_func}\"))\n",
    "# Cosceno de pi igual a -1 \n",
    "# por lo tanto f(π)=a(−1)=−a"
   ]
  },
  {
   "cell_type": "markdown",
   "metadata": {},
   "source": [
    "### 4️⃣ Regla de la suma/resta\n",
    "$$ \\frac{d}{dx} (x^2 + e^x) = 2x + e^x $$"
   ]
  },
  {
   "cell_type": "code",
   "execution_count": 15,
   "metadata": {},
   "outputs": [
    {
     "data": {
      "text/latex": [
       "$\\displaystyle 2 x + e^{x}$"
      ],
      "text/plain": [
       "2*x + exp(x)"
      ]
     },
     "metadata": {},
     "output_type": "display_data"
    },
    {
     "data": {
      "text/markdown": [
       "Evaluación en x=1: 2 + E"
      ],
      "text/plain": [
       "<IPython.core.display.Markdown object>"
      ]
     },
     "metadata": {},
     "output_type": "display_data"
    }
   ],
   "source": [
    "# Euler a la x: sp.exp(x)\n",
    "from sympy import exp\n",
    "suma_resta = x**2 + exp(x)\n",
    "derivada_suma_resta = sp.diff(suma_resta,x)\n",
    "display(derivada_suma_resta)\n",
    "eval_suma_resta = derivada_suma_resta.subs(x,1)\n",
    "display(Markdown(f\"Evaluación en x=1: {eval_suma_resta}\"))"
   ]
  },
  {
   "cell_type": "markdown",
   "metadata": {},
   "source": [
    "### 5️⃣ Regla del producto\n",
    "$$ \\frac{d}{dx} (x \\cos x) = -x \\sin x + \\cos x $$"
   ]
  },
  {
   "cell_type": "code",
   "execution_count": 16,
   "metadata": {},
   "outputs": [
    {
     "data": {
      "text/latex": [
       "$\\displaystyle - x \\sin{\\left(x \\right)} + \\cos{\\left(x \\right)}$"
      ],
      "text/plain": [
       "-x*sin(x) + cos(x)"
      ]
     },
     "metadata": {},
     "output_type": "display_data"
    }
   ],
   "source": [
    "\n",
    "derivada_producto = sp.diff(x*cos(x))\n",
    "display(derivada_producto)"
   ]
  },
  {
   "cell_type": "markdown",
   "metadata": {},
   "source": [
    "### 6️⃣ Regla del cociente\n",
    "$$ \\frac{d}{dx} \\left( \\frac{x^2 + 1}{x + 1} \\right) $$"
   ]
  },
  {
   "cell_type": "code",
   "execution_count": 18,
   "metadata": {},
   "outputs": [
    {
     "data": {
      "text/latex": [
       "$\\displaystyle \\frac{2 x}{x + 1} - \\frac{x^{2} + 1}{\\left(x + 1\\right)^{2}}$"
      ],
      "text/plain": [
       "2*x/(x + 1) - (x**2 + 1)/(x + 1)**2"
      ]
     },
     "metadata": {},
     "output_type": "display_data"
    }
   ],
   "source": [
    "cociente= (x**2 + 1)/ (x+1)\n",
    "derivada_cociente = sp.diff(cociente,x)\n",
    "display(derivada_cociente)"
   ]
  },
  {
   "cell_type": "markdown",
   "metadata": {},
   "source": [
    "### 7️⃣ Regla de la cadena\n",
    "$$ \\frac{d}{dx} (\\sin(x^2 + 1)) = 2x \\cos(x^2 + 1) $$"
   ]
  },
  {
   "cell_type": "code",
   "execution_count": 19,
   "metadata": {},
   "outputs": [
    {
     "data": {
      "text/latex": [
       "$\\displaystyle 2 x \\cos{\\left(x^{2} + 1 \\right)}$"
      ],
      "text/plain": [
       "2*x*cos(x**2 + 1)"
      ]
     },
     "metadata": {},
     "output_type": "display_data"
    }
   ],
   "source": [
    "compuesta = sp.sin(x**2+1)\n",
    "derivada_compuesta = sp.diff(compuesta,x)\n",
    "display(derivada_compuesta)"
   ]
  },
  {
   "cell_type": "markdown",
   "metadata": {},
   "source": [
    "---\n",
    "## Ejercicios Integradores\n",
    "Ahora es tu turno. Calcula las siguientes derivadas con sympy cada una en una celda de código y verifica tus resultados con `sympy.diff()`.\n",
    "\n",
    "### **Ejercicio 1 - Derivadas de funciones con exponentes fraccionarios**\n",
    "Calcula la derivada de la siguiente función y evalúala en \\( x = 1 \\):\n",
    "\n",
    "$$\n",
    "f(x) = x^{\\frac{3}{2}} + 5x^{\\frac{1}{3}} - e^{x^2}\n",
    "$$\n",
    "\n",
    "---\n"
   ]
  },
  {
   "cell_type": "code",
   "execution_count": 22,
   "metadata": {},
   "outputs": [
    {
     "data": {
      "text/latex": [
       "$\\displaystyle \\frac{1.66666666666667}{x^{0.666666666666667}} + 1.5 x^{0.5} - 2 x e^{x^{2}}$"
      ],
      "text/plain": [
       "1.66666666666667/x**0.666666666666667 + 1.5*x**0.5 - 2*x*exp(x**2)"
      ]
     },
     "metadata": {},
     "output_type": "display_data"
    },
    {
     "data": {
      "text/markdown": [
       "Evaluación en x=1: 19/6 - 2*E"
      ],
      "text/plain": [
       "<IPython.core.display.Markdown object>"
      ]
     },
     "metadata": {},
     "output_type": "display_data"
    }
   ],
   "source": [
    "x = sp.Symbol('x')\n",
    "f = x**(3/2) + 5*x**(1/3) - sp.exp(x**2)\n",
    "ejercicio = sp.diff(f, x)\n",
    "valor_en_1 = ejercicio.subs(x, 1)\n",
    "display(ejercicio)\n",
    "display(Markdown(f\"Evaluación en x=1: {sp.nsimplify(valor_en_1)}\"))\n"
   ]
  },
  {
   "cell_type": "markdown",
   "metadata": {},
   "source": [
    "### Ahora hazlo simplificando con `sp.simplify(` y `sp.nsimplify(`"
   ]
  },
  {
   "cell_type": "code",
   "execution_count": 24,
   "metadata": {},
   "outputs": [
    {
     "data": {
      "text/markdown": [
       "Derivada simplificada"
      ],
      "text/plain": [
       "<IPython.core.display.Markdown object>"
      ]
     },
     "metadata": {},
     "output_type": "display_data"
    },
    {
     "data": {
      "text/latex": [
       "$\\displaystyle \\frac{3 \\sqrt{x}}{2} - 2 x e^{x^{2}} + \\frac{5}{3 x^{\\frac{2}{3}}}$"
      ],
      "text/plain": [
       "3*sqrt(x)/2 - 2*x*exp(x**2) + 5/(3*x**(2/3))"
      ]
     },
     "metadata": {},
     "output_type": "display_data"
    },
    {
     "data": {
      "text/markdown": [
       "Evaluación racionalizada en x = 1"
      ],
      "text/plain": [
       "<IPython.core.display.Markdown object>"
      ]
     },
     "metadata": {},
     "output_type": "display_data"
    },
    {
     "data": {
      "text/latex": [
       "$\\displaystyle \\frac{19}{6} - 2 e$"
      ],
      "text/plain": [
       "19/6 - 2*E"
      ]
     },
     "metadata": {},
     "output_type": "display_data"
    },
    {
     "data": {
      "text/markdown": [
       "Evaluación en x = 1: -2.26989699025142"
      ],
      "text/plain": [
       "<IPython.core.display.Markdown object>"
      ]
     },
     "metadata": {},
     "output_type": "display_data"
    }
   ],
   "source": [
    "x = sp.Symbol('x')\n",
    "f = x**sp.Rational(3, 2) + 5*x**sp.Rational(1, 3) - sp.exp(x**2)\n",
    "derivada = sp.diff(f, x)\n",
    "derivada_simplificada = sp.simplify(derivada)\n",
    "valor_en_1 = derivada_simplificada.subs(x, 1)\n",
    "valor_en_1_simplificado = sp.nsimplify(valor_en_1)\n",
    "\n",
    "display(Markdown(\"Derivada simplificada\"))\n",
    "display(derivada_simplificada)\n",
    "\n",
    "display(Markdown(\"Evaluación racionalizada en x = 1\"))\n",
    "display(valor_en_1_simplificado)\n",
    "\n",
    "display(Markdown(f\"Evaluación en x = 1: {valor_en_1.evalf()}\"))\n",
    "\n"
   ]
  },
  {
   "cell_type": "markdown",
   "metadata": {},
   "source": [
    "### **Ejercicio 2 - Aplicación de la regla del producto y exponenciales**\n",
    "Deriva la siguiente función y evalúa en \\( x = 2 \\):\n",
    "\n",
    "$$\n",
    "g(x) = (x^3 + 2x) e^{\\sin x}\n",
    "$$\n",
    "\n",
    "---\n"
   ]
  },
  {
   "cell_type": "code",
   "execution_count": 28,
   "metadata": {},
   "outputs": [
    {
     "data": {
      "text/markdown": [
       "Derivada de g(x)"
      ],
      "text/plain": [
       "<IPython.core.display.Markdown object>"
      ]
     },
     "metadata": {},
     "output_type": "display_data"
    },
    {
     "data": {
      "text/latex": [
       "$\\displaystyle \\left(3 x^{2} + 2\\right) e^{\\sin{\\left(x \\right)}} + \\left(x^{3} + 2 x\\right) e^{\\sin{\\left(x \\right)}} \\cos{\\left(x \\right)}$"
      ],
      "text/plain": [
       "(3*x**2 + 2)*exp(sin(x)) + (x**3 + 2*x)*exp(sin(x))*cos(x)"
      ]
     },
     "metadata": {},
     "output_type": "display_data"
    },
    {
     "data": {
      "text/markdown": [
       "Evaluación en x=2: 22.3586857762600"
      ],
      "text/plain": [
       "<IPython.core.display.Markdown object>"
      ]
     },
     "metadata": {},
     "output_type": "display_data"
    }
   ],
   "source": [
    "g = (x**3 + 2*x) * sp.exp(sp.sin(x))\n",
    "derivada_g = sp.diff(g, x)\n",
    "valor_en_2 = derivada_g.subs(x, 2)\n",
    "\n",
    "display(Markdown(\"Derivada de g(x)\"))\n",
    "display(derivada_g)\n",
    "display(Markdown(f\"Evaluación en x=2: {valor_en_2.evalf()}\"))"
   ]
  },
  {
   "cell_type": "markdown",
   "metadata": {},
   "source": [
    "\n",
    "### **Ejercicio 3 - Regla del cociente con logaritmos y trigonometría**\n",
    "Calcula la derivada de la siguiente función y evalúala en \\( x = pi/4 \\):\n",
    "\n",
    "$$\n",
    "h(x) = \\frac{\\ln(x^2 + 1)}{\\tan x}\n",
    "$$\n",
    "\n",
    "---\n"
   ]
  },
  {
   "cell_type": "code",
   "execution_count": 34,
   "metadata": {},
   "outputs": [
    {
     "data": {
      "text/markdown": [
       "Derivada de h(x)"
      ],
      "text/plain": [
       "<IPython.core.display.Markdown object>"
      ]
     },
     "metadata": {},
     "output_type": "display_data"
    },
    {
     "data": {
      "text/latex": [
       "$\\displaystyle \\frac{2 x}{\\left(x^{2} + 1\\right) \\tan{\\left(x \\right)}} + \\frac{\\left(- \\tan^{2}{\\left(x \\right)} - 1\\right) \\log{\\left(x^{2} + 1 \\right)}}{\\tan^{2}{\\left(x \\right)}}$"
      ],
      "text/plain": [
       "2*x/((x**2 + 1)*tan(x)) + (-tan(x)**2 - 1)*log(x**2 + 1)/tan(x)**2"
      ]
     },
     "metadata": {},
     "output_type": "display_data"
    },
    {
     "data": {
      "text/markdown": [
       "Evaluación en x=pi/4: 0.0105562925692653"
      ],
      "text/plain": [
       "<IPython.core.display.Markdown object>"
      ]
     },
     "metadata": {},
     "output_type": "display_data"
    }
   ],
   "source": [
    "from sympy import ln, tan\n",
    "\n",
    "h = ln(x**2 + 1) / tan(x)\n",
    "derivada_h = sp.diff(h, x)\n",
    "valor_en_pi4 = derivada_h.subs(x, sp.pi/4)\n",
    "\n",
    "display(Markdown(\"Derivada de h(x)\"))\n",
    "display(derivada_h)\n",
    "display(Markdown(f\"Evaluación en x=pi/4: {valor_en_pi4.evalf()}\"))"
   ]
  },
  {
   "cell_type": "markdown",
   "metadata": {},
   "source": [
    "\n",
    "### **Ejercicio 4 - Regla de la cadena con funciones compuestas**\n",
    "Aplica la regla de la cadena para obtener la derivada y evalúa en \\( x = 1 \\):\n",
    "\n",
    "$$\n",
    "k(x) = \\sin^2(e^{x^3 + x})\n",
    "$$\n",
    "\n",
    "---\n"
   ]
  },
  {
   "cell_type": "code",
   "execution_count": 30,
   "metadata": {},
   "outputs": [
    {
     "data": {
      "text/markdown": [
       "Derivada de k(x)"
      ],
      "text/plain": [
       "<IPython.core.display.Markdown object>"
      ]
     },
     "metadata": {},
     "output_type": "display_data"
    },
    {
     "data": {
      "text/latex": [
       "$\\displaystyle 2 \\left(3 x^{2} + 1\\right) e^{x^{3} + x} \\sin{\\left(e^{x^{3} + x} \\right)} \\cos{\\left(e^{x^{3} + x} \\right)}$"
      ],
      "text/plain": [
       "2*(3*x**2 + 1)*exp(x**3 + x)*sin(exp(x**3 + x))*cos(exp(x**3 + x))"
      ]
     },
     "metadata": {},
     "output_type": "display_data"
    },
    {
     "data": {
      "text/markdown": [
       "Evaluación en x=1: 23.6902270409460"
      ],
      "text/plain": [
       "<IPython.core.display.Markdown object>"
      ]
     },
     "metadata": {},
     "output_type": "display_data"
    }
   ],
   "source": [
    "k = sp.sin(sp.exp(x**3 + x))**2\n",
    "derivada_k = sp.diff(k, x)\n",
    "valor_en_1 = derivada_k.subs(x, 1)\n",
    "\n",
    "display(Markdown(\"Derivada de k(x)\"))\n",
    "display(derivada_k)\n",
    "display(Markdown(f\"Evaluación en x=1: {valor_en_1.evalf()}\"))"
   ]
  },
  {
   "cell_type": "markdown",
   "metadata": {},
   "source": [
    "\n",
    "### **Ejercicio 5 - Derivadas en finanzas y economía**\n",
    "Supongamos que una empresa modela su costo de producción con la siguiente función:\n",
    "\n",
    "$$\n",
    "C(x) = \\frac{x^3 + 10x}{\\ln(x+2)}\n",
    "$$\n",
    "\n",
    "Calcula \\( C'(x) \\) y evalúa en \\( x = 5 \\) para determinar la tasa de cambio del costo en esa producción.\n",
    "\n",
    "---\n"
   ]
  },
  {
   "cell_type": "code",
   "execution_count": 31,
   "metadata": {},
   "outputs": [
    {
     "data": {
      "text/markdown": [
       "Derivada de C(x)"
      ],
      "text/plain": [
       "<IPython.core.display.Markdown object>"
      ]
     },
     "metadata": {},
     "output_type": "display_data"
    },
    {
     "data": {
      "text/latex": [
       "$\\displaystyle \\frac{3 x^{2} + 10}{\\log{\\left(x + 2 \\right)}} - \\frac{x^{3} + 10 x}{\\left(x + 2\\right) \\log{\\left(x + 2 \\right)}^{2}}$"
      ],
      "text/plain": [
       "(3*x**2 + 10)/log(x + 2) - (x**3 + 10*x)/((x + 2)*log(x + 2)**2)"
      ]
     },
     "metadata": {},
     "output_type": "display_data"
    },
    {
     "data": {
      "text/markdown": [
       "Evaluación en x=5: 37.0790714441694"
      ],
      "text/plain": [
       "<IPython.core.display.Markdown object>"
      ]
     },
     "metadata": {},
     "output_type": "display_data"
    }
   ],
   "source": [
    "C = (x**3 + 10*x) / sp.ln(x + 2)\n",
    "derivada_C = sp.diff(C, x)\n",
    "valor_en_5 = derivada_C.subs(x, 5)\n",
    "\n",
    "display(Markdown(\"Derivada de C(x)\"))\n",
    "display(derivada_C)\n",
    "display(Markdown(f\"Evaluación en x=5: {valor_en_5.evalf()}\"))"
   ]
  },
  {
   "cell_type": "markdown",
   "metadata": {},
   "source": [
    "\n",
    "### **Ejercicio 6 - Aplicaciones en Machine Learning**\n",
    "En redes neuronales, la función de activación **sigmoide** es:\n",
    "\n",
    "$$\n",
    "\\sigma(x) = \\frac{1}{1 + e^{-x}}\n",
    "$$\n",
    "\n",
    "Calcula su derivada  y evalúa en \\( x = 0 \\), \\( x = 2 \\), y \\( x = -2 \\).\n",
    "\n",
    "---"
   ]
  },
  {
   "cell_type": "code",
   "execution_count": 33,
   "metadata": {},
   "outputs": [
    {
     "data": {
      "text/markdown": [
       "Derivada de la función sigmoide:"
      ],
      "text/plain": [
       "<IPython.core.display.Markdown object>"
      ]
     },
     "metadata": {},
     "output_type": "display_data"
    },
    {
     "data": {
      "text/latex": [
       "$\\displaystyle \\frac{e^{- x}}{\\left(1 + e^{- x}\\right)^{2}}$"
      ],
      "text/plain": [
       "exp(-x)/(1 + exp(-x))**2"
      ]
     },
     "metadata": {},
     "output_type": "display_data"
    },
    {
     "data": {
      "text/markdown": [
       "Evaluación en x=0: 0.250000000000000"
      ],
      "text/plain": [
       "<IPython.core.display.Markdown object>"
      ]
     },
     "metadata": {},
     "output_type": "display_data"
    },
    {
     "data": {
      "text/markdown": [
       "Evaluación en x=2: 0.104993585403507"
      ],
      "text/plain": [
       "<IPython.core.display.Markdown object>"
      ]
     },
     "metadata": {},
     "output_type": "display_data"
    },
    {
     "data": {
      "text/markdown": [
       "Evaluación en x=-2: 0.104993585403507"
      ],
      "text/plain": [
       "<IPython.core.display.Markdown object>"
      ]
     },
     "metadata": {},
     "output_type": "display_data"
    }
   ],
   "source": [
    "sigmoide = 1 / (1 + sp.exp(-x))\n",
    "derivada_sigmoide = sp.diff(sigmoide, x)\n",
    "valores = [0, 2, -2]\n",
    "resultados = {v: derivada_sigmoide.subs(x, v).evalf() for v in valores}\n",
    "display(Markdown(\"Derivada de la función sigmoide:\"))\n",
    "display(derivada_sigmoide)\n",
    "for v in valores:\n",
    "    display(Markdown(f\"Evaluación en x={v}: {resultados[v]}\"))"
   ]
  }
 ],
 "metadata": {
  "kernelspec": {
   "display_name": ".venv",
   "language": "python",
   "name": "python3"
  },
  "language_info": {
   "codemirror_mode": {
    "name": "ipython",
    "version": 3
   },
   "file_extension": ".py",
   "mimetype": "text/x-python",
   "name": "python",
   "nbconvert_exporter": "python",
   "pygments_lexer": "ipython3",
   "version": "3.11.3"
  }
 },
 "nbformat": 4,
 "nbformat_minor": 2
}
