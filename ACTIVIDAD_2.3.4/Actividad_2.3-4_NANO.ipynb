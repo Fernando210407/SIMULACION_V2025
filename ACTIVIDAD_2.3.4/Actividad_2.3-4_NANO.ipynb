{
 "cells": [
  {
   "cell_type": "markdown",
   "metadata": {},
   "source": [
    "# Programación Lineal\n",
    "---\n",
    "🔹 **Identificación de variables de decisión**  \n",
    "🔹 **Optimización con Programación Lineal**  \n",
    "\n",
    "###  **Objetivo:**  \n",
    "Aprender la aplicación de **programación lineal** para resolver problemas de optimización.\n"
   ]
  },
  {
   "cell_type": "markdown",
   "metadata": {},
   "source": [
    "# **Identificación de Variables de Decisión y programación lineal**\n",
    "Pensemos en el siguiente **Problema** sobre  **Producción de Sillas y Mesas**:\n",
    "\n",
    "Una fábrica produce **sillas** y **mesas**. Cada silla genera **$5 de ganancia** y cada mesa **$8**. La producción está limitada por:  \n",
    "\n",
    "- **40 horas de trabajo disponibles**  \n",
    "- **30 unidades de madera disponibles**  \n",
    "\n",
    "Cada silla requiere **4 horas de trabajo** y **3 unidades de madera**, mientras que cada mesa requiere **5 horas de trabajo** y **6 unidades de madera**.\n",
    "\n",
    "**Objetivo:** Determinar cuántas **sillas** y **mesas** deben producirse para **maximizar la ganancia**.\n",
    "\n",
    "---\n",
    "## **Pasos para Identificar las Variables de Decisión**\n",
    "### **1️⃣ Leer y Comprender el Problema**\n",
    "Antes de definir las variables, es fundamental entender:\n",
    "- **¿Qué estamos maximizando o minimizando?** (Ejemplo: ganancias, costos, recursos).  \n",
    "- **¿Qué está bajo nuestro control o qué podemos manipular?** (Ejemplo: unidades a producir, recursos a asignar, cantidad de una sustancia a utilizar, cantidad de material a utilizar).  \n",
    "\n",
    "### **2️⃣ Identificar las Cantidades a Determinar**\n",
    "\n",
    "Las **variables de decisión** son los valores desconocidos que necesitamos determinar para encontrar la mejor solución a un problema de optimización.  \n",
    "Estas variables representan **acciones bajo nuestro control o que podemos manipular** y afectan la **función objetivo** y las **restricciones**.\n",
    "\n",
    "En pocas palabras, las variables de decisión corresponden a **las incógnitas del problema**.  \n",
    "Algunas preguntas clave:\n",
    "- ¿Qué valores afectan directamente la solución?  \n",
    "- ¿Qué decisiones podemos tomar dentro del problema?\n",
    "\n",
    "Para formular matemáticamente el problema, debemos identificar **qué cantidades queremos determinar**.\n",
    "\n",
    "En nuestro ejemplo:\n",
    "- **¿Qué estamos decidiendo?** → **Cuántas sillas y mesas producir** \n",
    "- **Definición matemática:**\n",
    "  - \\( x_1 \\) = Número de **sillas** a producir  \n",
    "  - \\( x_2 \\) = Número de **mesas** a producir  \n",
    "\n",
    "- Estas variables definirán la solución del problema.\n",
    "- La **función objetivo** dependerá de estas variables.\n",
    "- Las **restricciones** como el tiempo y la madera también dependen de \\( x_1 \\) y \\( x_2 \\).\n",
    "\n",
    "---\n",
    "\n",
    "### **3️⃣ Definir las Variables Matemáticamente**\n",
    "Las variables deben representarse con símbolos claros.  \n",
    "En nuestro ejemplo:\n",
    "- **\\( x_1 \\) y \\( x_2 \\)** determinan la solución.\n",
    "- La **función objetivo** se expresa como:\n",
    "  $$\n",
    "  \\max \\quad 5x_1 + 8x_2\n",
    "  $$\n",
    "  donde **\\( x_1 \\)** representa el número de **sillas** a producir y **\\( x_2 \\)** el número de **mesas**.\n",
    "\n",
    "- Las **restricciones** del problema se escriben como ecuaciones en función de \\( x_1 \\) y \\( x_2 \\):\n",
    "\n",
    "  - **Restricción de horas de trabajo**:  \n",
    "    Cada silla requiere **4 horas** y cada mesa **5 horas** de trabajo.  \n",
    "    Como solo hay **40 horas disponibles**, se plantea la restricción:\n",
    "    $$\n",
    "    4x_1 + 5x_2 \\leq 40\n",
    "    $$\n",
    "\n",
    "  - **Restricción de madera**:  \n",
    "    Cada silla requiere **3 unidades de madera** y cada mesa **6 unidades**.  \n",
    "    Como hay **30 unidades disponibles**, la restricción es:\n",
    "    $$\n",
    "    3x_1 + 6x_2 \\leq 30\n",
    "    $$\n",
    "\n",
    "  - **Restricciones de no negatividad**:  \n",
    "    No podemos producir una cantidad negativa de sillas o mesas, por lo que:\n",
    "    $$\n",
    "    x_1 \\geq 0, \\quad x_2 \\geq 0\n",
    "    $$\n",
    "\n",
    "---\n",
    "\n",
    "### **4️⃣ Verificar la Validez de las Variables**\n",
    "- **¿Las variables permiten expresar la función objetivo?** Sí.  \n",
    "- **¿Las restricciones dependen de estas variables?** Sí.  \n",
    "- **¿Tienen sentido en el contexto del problema?** Sí.  \n",
    "\n",
    "---\n",
    "# Ejemplo práctico de programación lineal"
   ]
  },
  {
   "cell_type": "markdown",
   "metadata": {},
   "source": [
    "### **LHS (Left-Hand Side) y RHS (Right-Hand Side) en las Restricciones**\n",
    "En cualquier ecuación o inecuación matemática, los términos pueden separarse en:\n",
    "\n",
    "- **LHS (Left-Hand Side - Lado Izquierdo)**: Es la parte de la ecuación antes del signo de desigualdad o igualdad.  \n",
    "\n",
    "\n",
    "- **RHS (Right-Hand Side - Lado Derecho)**: Es el valor límite después del signo de desigualdad o igualdad.  \n",
    "\n",
    "**Ejemplo completo de una restricción desglosada (horas de trabajo):**\n",
    "$$\n",
    "4x_1 + 5x_2 \\leq 40\n",
    "$$\n",
    "- **LHS** → \\( 4x_1 + 5x_2 \\) (horas requeridas para producción).  \n",
    "- **RHS** → \\( 40 \\) (horas disponibles).  \n",
    "- **Signo \\( $\\leq$ \\)** → Indica que **no podemos exceder las 40 horas disponibles**."
   ]
  },
  {
   "cell_type": "code",
   "execution_count": 46,
   "metadata": {},
   "outputs": [
    {
     "data": {
      "text/plain": [
       "[-5, -8]"
      ]
     },
     "execution_count": 46,
     "metadata": {},
     "output_type": "execute_result"
    }
   ],
   "source": [
    "from scipy.optimize import linprog\n",
    "\n",
    "# Coeficientes de la función objetivo (maximizar 5x1 + 8x2)\n",
    "c = [-5, -8]  # Se usan negativos porque linprog minimiza por defecto\n",
    "c"
   ]
  },
  {
   "cell_type": "code",
   "execution_count": 47,
   "metadata": {},
   "outputs": [
    {
     "data": {
      "text/plain": [
       "[[4, 5], [3, 6]]"
      ]
     },
     "execution_count": 47,
     "metadata": {},
     "output_type": "execute_result"
    }
   ],
   "source": [
    "# Coeficientes de las restricciones (LHS)\n",
    "A = [\n",
    "    [4,5 ],  # Restricción de horas de trabajo [sillas, mesa] \n",
    "    [3,6 ]   # Restricción de madera [silla, mesa]\n",
    "]\n",
    "A"
   ]
  },
  {
   "cell_type": "code",
   "execution_count": 48,
   "metadata": {},
   "outputs": [
    {
     "data": {
      "text/plain": [
       "[40, 30]"
      ]
     },
     "execution_count": 48,
     "metadata": {},
     "output_type": "execute_result"
    }
   ],
   "source": [
    "# Lado derecho de las restricciones (RHS)\n",
    "b = [40,30 ]\n",
    "b"
   ]
  },
  {
   "cell_type": "code",
   "execution_count": 49,
   "metadata": {},
   "outputs": [
    {
     "data": {
      "text/plain": [
       "(10, 0, 50)"
      ]
     },
     "execution_count": 49,
     "metadata": {},
     "output_type": "execute_result"
    }
   ],
   "source": [
    "# Límites de las variables (no pueden ser negativas)\n",
    "# x_bounds = [(lower_x1, upper_x1), (lower_x2, upper_x2)]\n",
    "# None si no hay límite, o si el limite es infinito\n",
    "x_bounds = [(0, None), (0, None)]\n",
    "\n",
    "# Resolver el problema usando el método símplex\n",
    "resultado = linprog(c, A_ub=A, b_ub=b, bounds=x_bounds, method=\"highs\")\n",
    "\n",
    "# Obtener los valores óptimos de las variables y la ganancia máxima\n",
    "solucion_x1 = resultado.x[0]\n",
    "solucion_x2 = resultado.x[1]\n",
    "ganancia_maxima = -resultado.fun  # Se invierte el signo para obtener la maximización\n",
    "\n",
    "round(solucion_x1), round(solucion_x2), round(ganancia_maxima)"
   ]
  },
  {
   "cell_type": "code",
   "execution_count": 50,
   "metadata": {},
   "outputs": [
    {
     "name": "stdout",
     "output_type": "stream",
     "text": [
      "x1:10, x2:0, Ganancia máxima:50\n"
     ]
    }
   ],
   "source": [
    "print(f\"x1:{round(solucion_x1)}, x2:{round(solucion_x2)}, Ganancia máxima:{round(ganancia_maxima)}\")"
   ]
  },
  {
   "cell_type": "markdown",
   "metadata": {},
   "source": [
    "# Método Gráfico"
   ]
  },
  {
   "cell_type": "markdown",
   "metadata": {},
   "source": [
    "Dada la inecuación:\n",
    "\n",
    "$$\n",
    "4x_1 + 5x_2 \\leq 40\n",
    "$$\n",
    "\n",
    "**Despejamos \\( x_2 \\):**\n",
    "1. Restamos \\( 4x_1 \\) en ambos lados:\n",
    "   $$\n",
    "   5x_2 \\leq 40 - 4x_1\n",
    "   $$\n",
    "2. Dividimos todo entre **5**:\n",
    "   $$\n",
    "   x_2 \\leq \\frac{40 - 4x_1}{5}\n",
    "   $$\n",
    "\n",
    "En **Python**, esta expresión se representaría como:\n",
    "\n",
    "```python\n",
    "x2_vals_trabajo = (40 - 4*x1_vals) / 5\n",
    "```\n",
    "Lo mismo para madera\n",
    "    $$\n",
    "    3x_1 + 6x_2 \\leq 30\n",
    "    $$\n",
    "\n",
    "```python\n",
    "x2_vals_madera = (30 - 3*x1_vals) / 6\n",
    "```"
   ]
  },
  {
   "cell_type": "code",
   "execution_count": 51,
   "metadata": {},
   "outputs": [
    {
     "data": {
      "text/plain": [
       "array([ 0,  1,  2,  3,  4,  5,  6,  7,  8, 10])"
      ]
     },
     "execution_count": 51,
     "metadata": {},
     "output_type": "execute_result"
    }
   ],
   "source": [
    "\n",
    "import numpy as np\n",
    "import matplotlib.pyplot as plt\n",
    "\n",
    "# cada silla require 4 horas, en 40 horas prod hay maximo 10\n",
    "# Crear el espacio de valores para x1 y x2\n",
    "# Osea, SIMULAMOS los valores posibles de x1\n",
    "x1_vals = np.linspace(0, 10,10 , dtype=int)\n",
    "x1_vals"
   ]
  },
  {
   "cell_type": "code",
   "execution_count": 52,
   "metadata": {},
   "outputs": [
    {
     "data": {
      "text/plain": [
       "array([8. , 7.2, 6.4, 5.6, 4.8, 4. , 3.2, 2.4, 1.6, 0. ])"
      ]
     },
     "execution_count": 52,
     "metadata": {},
     "output_type": "execute_result"
    }
   ],
   "source": [
    "x2_vals_trabajo = ( 40 - 4 *x1_vals) / 5  # Restricción de horas de trabajo despejando x2\n",
    "x2_vals_trabajo"
   ]
  },
  {
   "cell_type": "code",
   "execution_count": 53,
   "metadata": {},
   "outputs": [
    {
     "data": {
      "text/plain": [
       "array([5. , 4.5, 4. , 3.5, 3. , 2.5, 2. , 1.5, 1. , 0. ])"
      ]
     },
     "execution_count": 53,
     "metadata": {},
     "output_type": "execute_result"
    }
   ],
   "source": [
    "x2_vals_madera = ( 30-3 *x1_vals) / 6  # Restricción de madera despejando x2\n",
    "x2_vals_madera"
   ]
  },
  {
   "cell_type": "code",
   "execution_count": 54,
   "metadata": {},
   "outputs": [
    {
     "data": {
      "image/png": "[encoded data removed]",
      "text/plain": [
       "<Figure size 800x600 with 1 Axes>"
      ]
     },
     "metadata": {},
     "output_type": "display_data"
    }
   ],
   "source": [
    "\n",
    "# Configurar el gráfico\n",
    "plt.figure(figsize=(8, 6))\n",
    "plt.xlim(0, 12)\n",
    "plt.ylim(0, 10)\n",
    "\n",
    "# Dibujar las restricciones\n",
    "plt.plot(x1_vals, x2_vals_trabajo, label=r'$4x_1 + 5x_2 \\leq 40$', color=\"blue\")\n",
    "plt.plot(x1_vals, x2_vals_madera, label=r'$3x_1 + 6x_2 \\leq 30$', color=\"green\")\n",
    "\n",
    "# Rellenar la región factible en color gris\n",
    "plt.fill_between(x1_vals, np.minimum(x2_vals_trabajo, x2_vals_madera), 0, color='gray', alpha=0.3)\n",
    "\n",
    "# Marcar la solución óptima -> Esta marca es manual una vez que la encontramos\n",
    "plt.scatter(10, 0, color=\"red\", zorder=3, label=\"Solución óptima (10,0)\")\n",
    "\n",
    "# Etiquetas y título\n",
    "plt.xlabel(r'$x_1$ (Sillas)')\n",
    "plt.ylabel(r'$x_2$ (Mesas)')\n",
    "plt.title(\"Región Factible y Solución Óptima\")\n",
    "plt.axhline(0, color='black', linewidth=1)\n",
    "plt.axvline(0, color='black', linewidth=1)\n",
    "plt.legend()\n",
    "plt.grid()\n",
    "\n",
    "# Mostrar el gráfico\n",
    "plt.show()\n"
   ]
  },
  {
   "cell_type": "markdown",
   "metadata": {},
   "source": [
    "#### ¿Por qué despejamos \\( x_2 \\) y no \\( x_1 \\) en el método gráfico?\n",
    "\n",
    "En el método gráfico de programación lineal, despejamos \\( x_2 \\) en función de \\( x_1 \\) para facilitar la representación en un plano cartesiano. La razón principal es que las gráficas en 2D se suelen trazar en función de \\( x_1 \\) (eje horizontal) y \\( x_2 \\) (eje vertical).\n"
   ]
  },
  {
   "cell_type": "markdown",
   "metadata": {},
   "source": [
    "### **Actividad**: Ingeniería en Nanotecnología - Optimización de insumos para biosensores\n",
    "\n",
    "Responde utilizando programación lineal y método gráfico lo siguiente:\n",
    "\n",
    "Una empresa de nanotecnología diseña biosensores utilizando dos tipos de nanopartículas: **Plata (NP-Ag)** y **Grafeno (NP-G)**.\n",
    "\n",
    "- Cada mg de **NP-Ag** aporta 5 unidades de conductividad y 3 unidades de estabilidad térmica.\n",
    "- Cada mg de **NP-G** aporta 4 unidades de conductividad y 6 unidades de estabilidad térmica.\n",
    "- El biosensor requiere al menos **120 unidades de conductividad** y **150 unidades de estabilidad térmica**.\n",
    "- El costo por mg de NP-Ag es de **$8** y el de NP-G es de **$10**.\n",
    "\n",
    "**Objetivo:** Determinar la cantidad mínima de cada nanopartícula que debe utilizarse para satisfacer las condiciones técnicas al menor costo posible.\n",
    "\n",
    "### Tu resolución con programación lineal:"
   ]
  },
  {
   "cell_type": "code",
   "execution_count": 55,
   "metadata": {},
   "outputs": [
    {
     "data": {
      "text/plain": [
       "[8, 10]"
      ]
     },
     "execution_count": 55,
     "metadata": {},
     "output_type": "execute_result"
    }
   ],
   "source": [
    "s=[8,10]\n",
    "s\n"
   ]
  },
  {
   "cell_type": "code",
   "execution_count": 67,
   "metadata": {},
   "outputs": [
    {
     "data": {
      "text/plain": [
       "[[-5, -4], [-3, -6]]"
      ]
     },
     "execution_count": 67,
     "metadata": {},
     "output_type": "execute_result"
    }
   ],
   "source": [
    "R = [\n",
    "    [-5,-4 ], \n",
    "    [-3,-6 ]   \n",
    "]\n",
    "R"
   ]
  },
  {
   "cell_type": "code",
   "execution_count": 74,
   "metadata": {},
   "outputs": [],
   "source": [
    "f=[-120,-150]"
   ]
  },
  {
   "cell_type": "code",
   "execution_count": 75,
   "metadata": {},
   "outputs": [
    {
     "data": {
      "text/plain": [
       "(7, 22, -270)"
      ]
     },
     "execution_count": 75,
     "metadata": {},
     "output_type": "execute_result"
    }
   ],
   "source": [
    "x_bounds = [(0, None), (0, None)]\n",
    "\n",
    "# Resolver el problema usando el método símplex\n",
    "resultado = linprog(s, A_ub=R, b_ub=f, bounds=x_bounds, method=\"highs\")\n",
    "\n",
    "# Obtener los valores óptimos de las variables y la ganancia máxima\n",
    "sol_x1 = resultado.x[0]\n",
    "sol_x2 = resultado.x[1]\n",
    "ganancia = -resultado.fun # Se invierte el signo para obtener la maximización\n",
    "\n",
    "round(sol_x1), round(sol_x2), round(ganancia)"
   ]
  },
  {
   "cell_type": "code",
   "execution_count": 96,
   "metadata": {},
   "outputs": [
    {
     "name": "stdout",
     "output_type": "stream",
     "text": [
      "x1:6.67, x2:21.67, costo minima:-270\n"
     ]
    }
   ],
   "source": [
    "print(f\"x1:{round(sol_x1,2)}, x2:{round(sol_x2,2)}, costo minima:{round(ganancia)}\")"
   ]
  },
  {
   "cell_type": "markdown",
   "metadata": {},
   "source": [
    "### Tu resolución método gráfico:"
   ]
  },
  {
   "cell_type": "code",
   "execution_count": 94,
   "metadata": {},
   "outputs": [
    {
     "data": {
      "image/png": "[encoded data removed]",
      "text/plain": [
       "<Figure size 800x600 with 1 Axes>"
      ]
     },
     "metadata": {},
     "output_type": "display_data"
    }
   ],
   "source": [
    "# Configurar el gráfico\n",
    "plt.figure(figsize=(8, 6))\n",
    "plt.xlim(0, 15)\n",
    "plt.ylim(0, 25)\n",
    "\n",
    "# Dibujar las restricciones\n",
    "plt.plot(x1_valr, x2_vals, label=r'$5x_1 + 4x_2 \\leq 120$', color=\"blue\")\n",
    "plt.plot(x1_valr, x2_vals_2, label=r'$3x_1 + 6x_2 \\leq 150$', color=\"green\")\n",
    "\n",
    "# Rellenar la región factible en color gris\n",
    "plt.fill_between(x1_valr, np.minimum(x2_vals, x2_vals_2), 0, color='gray', alpha=0.3)\n",
    "\n",
    "# Marcar la solución óptima -> Esta marca es manual una vez que la encontramos\n",
    "plt.scatter(6.70, 21.7, color=\"red\", zorder=3, label=\"Solución óptima (7,22)\")\n",
    "\n",
    "# Etiquetas y título\n",
    "plt.xlabel(r'$x_1$ (conductividad)')\n",
    "plt.ylabel(r'$x_2$ (estabilidad)')\n",
    "plt.title(\"Región Factible y Solución Óptima\")\n",
    "plt.axhline(0, color='black', linewidth=1)\n",
    "plt.axvline(0, color='black', linewidth=1)\n",
    "plt.legend()\n",
    "plt.grid()\n",
    "\n",
    "# Mostrar el gráfico\n",
    "plt.show()"
   ]
  },
  {
   "cell_type": "markdown",
   "metadata": {},
   "source": [
    "### **Actividad Responde las siguientes preguntas**\n",
    "1️⃣ ¿Qué significaría, desde el punto de vista técnico, que la solución óptima incluya 0 mg de una de las nanopartículas? ¿Qué implicaciones tendría esto en el desempeño del biosensor?\n",
    "\n",
    "2️⃣ Si se descubriera que la NP-G tiene una tasa de reacción más lenta y debe limitarse a un máximo de 20 mg, ¿cómo modificarías el modelo para reflejar esta nueva restricción?\n",
    "\n",
    "3️⃣ El modelo supone costos fijos por mg. ¿Cómo cambiaría tu estrategia si el proveedor ofrece descuentos por volumen a partir de cierto umbral? ¿Se puede seguir usando linprog para resolverlo?\n",
    "\n",
    "4️⃣ En un entorno real, ¿qué otras variables técnicas o económicas deberías considerar para tomar una decisión completa sobre la composición del biosensor?"
   ]
  },
  {
   "cell_type": "markdown",
   "metadata": {},
   "source": [
    "### **Actividad: Ejercicio (Avanzado de Programación Lineal)**\n",
    "\n",
    "En este ejercicio resolverás un problema complejo de optimización lineal utilizando:\n",
    "- **Método Numérico**: `scipy.optimize.linprog`.\n",
    "\n",
    "El método visual no será necesario porque son 3 variables. \n",
    "\n",
    "---\n",
    "### **Planteamiento del Problema**\n",
    "Una empresa fabrica **tres tipos de productos**: **A, B y C**. \n",
    "Cada producto genera una ganancia distinta:\n",
    "- **Producto A**: $10 de ganancia\n",
    "- **Producto B**: $15 de ganancia\n",
    "- **Producto C**: $25 de ganancia\n",
    "\n",
    "### **Restricciones:**\n",
    "- **Disponibilidad de materia prima**: 80 unidades disponibles.\n",
    "- **Disponibilidad de horas de trabajo**: 100 horas disponibles.\n",
    "- **Capacidad de producción diaria**: Máximo 30 unidades en total.\n",
    "\n",
    "Cada producto requiere los siguientes recursos:\n",
    "| Producto | Materia Prima | Horas de Trabajo |\n",
    "|----------|--------------|------------------|\n",
    "| A        | 4            | 5                |\n",
    "| B        | 6            | 3                |\n",
    "| C        | 5            | 8                |\n",
    "\n",
    "**Objetivo**: Determinar cuántas unidades de cada producto deben producirse para **maximizar la ganancia**.\n",
    "\n",
    "Resuelve el ejercicio en las celdas markdown/python que sean necesarias a partir de la siguiente:"
   ]
  },
  {
   "cell_type": "markdown",
   "metadata": {},
   "source": [
    "### Tu resolución método de programación lineal:\n",
    "Consejo: Al final, al dar tus resultados redondea con la función de python `round()`"
   ]
  },
  {
   "cell_type": "code",
   "execution_count": null,
   "metadata": {},
   "outputs": [],
   "source": []
  },
  {
   "cell_type": "markdown",
   "metadata": {},
   "source": [
    "### Actividad de investigación y programación\n",
    "\n",
    "Investiga como realizar el mismo ejercicio con la libreria  `pulp` y compara los resultados."
   ]
  },
  {
   "cell_type": "code",
   "execution_count": 61,
   "metadata": {},
   "outputs": [
    {
     "name": "stdout",
     "output_type": "stream",
     "text": [
      "Requirement already satisfied: pulp in c:\\users\\fsaca\\onedrive\\escritorio\\simulacion_v2025\\.venv\\lib\\site-packages (3.2.1)\n",
      "Note: you may need to restart the kernel to use updated packages.\n"
     ]
    }
   ],
   "source": [
    "# Instalación de la librería\n",
    "%pip install pulp"
   ]
  },
  {
   "cell_type": "code",
   "execution_count": null,
   "metadata": {},
   "outputs": [],
   "source": []
  },
  {
   "cell_type": "markdown",
   "metadata": {},
   "source": [
    "##  Actividad: **Preguntas para Reflexión**\n",
    "1️⃣ **Método Numérico:** ¿Cuáles son los valores óptimos de producción obtenidos con `linprog`? ¿Cómo se interpreta la ganancia máxima?\n",
    "\n",
    "2️⃣ **Interpretación:** ¿Cómo cambiaría la solución si la disponibilidad de materia prima aumenta a 100 unidades?\n",
    "\n",
    "4️⃣ **Extensión:** Si agregáramos restricciones de almacenamiento o demanda mínima de productos, ¿cómo modificarías el modelo?"
   ]
  }
 ],
 "metadata": {
  "kernelspec": {
   "display_name": ".venv",
   "language": "python",
   "name": "python3"
  },
  "language_info": {
   "codemirror_mode": {
    "name": "ipython",
    "version": 3
   },
   "file_extension": ".py",
   "mimetype": "text/x-python",
   "name": "python",
   "nbconvert_exporter": "python",
   "pygments_lexer": "ipython3",
   "version": "3.11.3"
  }
 },
 "nbformat": 4,
 "nbformat_minor": 2
}
